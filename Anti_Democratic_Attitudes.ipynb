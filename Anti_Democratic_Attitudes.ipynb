{
  "nbformat": 4,
  "nbformat_minor": 0,
  "metadata": {
    "colab": {
      "name": "Anti-Democratic Attitudes.ipynb",
      "provenance": [],
      "collapsed_sections": [],
      "toc_visible": true,
      "include_colab_link": true
    },
    "kernelspec": {
      "display_name": "R",
      "name": "ir"
    }
  },
  "cells": [
    {
      "cell_type": "markdown",
      "metadata": {
        "id": "view-in-github",
        "colab_type": "text"
      },
      "source": [
        "<a href=\"https://colab.research.google.com/github/crweber9874/APL/blob/data/Anti_Democratic_Attitudes.ipynb\" target=\"_parent\"><img src=\"https://colab.research.google.com/assets/colab-badge.svg\" alt=\"Open In Colab\"/></a>"
      ]
    },
    {
      "cell_type": "code",
      "metadata": {
        "id": "2RQVsNf7x8hu"
      },
      "source": [
        ""
      ],
      "execution_count": null,
      "outputs": []
    },
    {
      "cell_type": "markdown",
      "metadata": {
        "id": "jVD1Jlmdx-CX"
      },
      "source": [
        "## Data \n",
        "We test the potential \"winner effects\" on public support for different forms of election contestation using data from the 2020 presidential election. The U.S. case is particularly interesting because past research suggests that support for democratic norms should be more hardened in established democracies \\citep{AndersenGuillory1997}. Thus, we would expect attenuated winner effects in the U.S. relative to newer democracies. Moreover, the 2020 election raised a host of issues about legitimacy of various forms of election contestation with citizens on all sides of the political spectrum concerned about electoral fraud, coups, and other attempts to circumvent electoral processes. \n",
        "\n",
        "Data from this study derive from the 2020 Western States Survey. The survey consists of 3,600 respondents from the states of Arizona, Colorado, New Mexico, Nevada, and Utah conducted by YouGov. The data contain an oversample of 600 Latinos. Respondents were matched on gender, age, race, and education using the 2018 American Community Survey (see appendix for details). \n",
        "\n",
        "Of particular interest for this study is that respondents were interviewed between October 25, 2020 and November 9, 2020. This includes nine days prior to election day on November 3, 2020,three days after election day before any major media sources called the election for former Vice-President Biden, and and three days after the call for the election. Thus, we are able to compare matched respondents in these three periods to estimate how the timing of the election---and likely resulting perceptions of winning or losing the election---are associated with support for election contestation behaviors. \n",
        "\n",
        "## Dependent variables\n",
        "We measure approval of electoral contestation behaviors with the following question battery that captures some of the most prominent ways elections are contested. \n",
        "Respondents were asked, \n",
        "\n",
        "**Many people are unhappy with the outcomes of elections. How much do you support or oppose each of the following behaviors when people are unhappy with the outcome of an election?**\n",
        "\n",
        "$\\bullet$ Attend a march or demonstration [, even if it might turn chaotic or dangerous] \n",
        "\n",
        "$\\bullet$ Publicly criticize the integrity or fairness of the election [on social media]\n",
        "\n",
        "$\\bullet$  Burn the American flag \n",
        "\n",
        "$\\bullet$ Support ballot recounts\n",
        "\n",
        "$\\bullet$ Contest the outcome in the courts\n"
      ]
    },
    {
      "cell_type": "code",
      "metadata": {
        "id": "JIl58ZLy0-Cw"
      },
      "source": [
        "# # The stuff below is to run in colab; otherwise, just install packages on your machine.\n",
        "# system(\"apt-get install -y libv8-dev\")\n",
        "# system(\"apt-get install r-base-dev xml2 libxml2-dev libssl-dev libcurl4-openssl-dev unixodbc-dev\")\n",
        "# if (!require(devtools)) {\n",
        "#   install.packages(\"devtools\")\n",
        "#   library(devtools)\n",
        "# }\n",
        "# #devtools::install_github(\"stan-dev/rstanarm\", build_vignettes = FALSE)\n",
        "# devtools::install_github(\"paul-buerkner/brms\", build_vignettes = FALSE)\n",
        "# devtools::install_github(\"malcolmbarrett/ggdag\", build_vignettes = FALSE)\n",
        "# install.packages(\"lavaan\")\n",
        "# install.packages(\"psych\")\n",
        "# install.packages(\"dplyr\")\n",
        "# install.packages(\"car\")\n",
        "# install.packages(\"FindIt\")\n",
        "# library('lavaan')\n",
        "# library('car')\n"
      ],
      "execution_count": 9,
      "outputs": []
    },
    {
      "cell_type": "markdown",
      "metadata": {
        "id": "dhxKk1-c-MdC"
      },
      "source": [
        "# Load data\n",
        "\n",
        "Below I include the code to recode much of the data. Just run the cell below. It will also display a bunch of alpha measures for scales created from the psychology items (e.g., authoritariansm, racial resentment, and so forth). You can also copy the notebook and run on your end. You'll need to install all the packages and dependencies. This is a bit challenging (I had to run it using the hidden code above); otherwise, we can just all edit and modify the code in my account. There should be a track change option. "
      ]
    },
    {
      "cell_type": "code",
      "metadata": {
        "colab": {
          "base_uri": "https://localhost:8080/",
          "height": 1000
        },
        "id": "GTzFp4-bUnIO",
        "cellView": "form",
        "outputId": "fe911d88-8193-41d9-8eeb-dc77b52769a8"
      },
      "source": [
        "#@title Load Packages and Recode Data\n",
        "#install.packages(\"lavaan\")\n",
        "#install.packages(\"psych\")\n",
        "#install.packages(\"dplyr\")\n",
        "#install.packages(\"car\")\n",
        "#install.packages(\"FindIt\")\n",
        "library(dplyr)\n",
        "library(lavaan)\n",
        "library(psych)\n",
        "#detach(\"package:car\")\n",
        "df = read.csv(\"https://raw.githubusercontent.com/crweber9874/research/master/western.csv\", \n",
        "              header = TRUE)\n",
        "### Misc Recodes\n",
        "state_list = c(\"Washington\", \"Oregon\", \"California\", \n",
        "         \"Idaho\", \"Utah\", \"Nevada\", \"Arizona\",\n",
        "         \"New Mexico\", \"Colorado\", \"Wyoming\", \n",
        "         \"Montana\", \"Texas\", \"Oklahoma\", \"Kansas\",\n",
        "         \"Sonora, Mexico\", \"Chihuaha, Mexico\", \n",
        "         \"Coahila, Mexico\", \"British Columbia, Canada\",\n",
        "         \"Alberta, Canada\")\n",
        "\n",
        "region_list = c(\"West\", \"Southwest\", \"Northwest\", \n",
        "           \"West Coast\", \"Intermountain West\",\n",
        "          \"Rocky Mountains\", \"Other\")\n",
        "\n",
        "state = ifelse(df$WSS01_1 == \"selected\", \"Washington\", NA) \n",
        "region = ifelse(df$WSS01_b_1 == \"selected\", \"West\", NA) \n",
        "\n",
        "opt = paste0(\"WSS01_\", c(2:19))\n",
        "for (i in 1:length(opt)){\n",
        "    state = ifelse(df[, opt[i]] == \"selected\", state_list[i+1] , state) \n",
        "}\n",
        "\n",
        "opt = paste0(\"WSS01_b_\", c(2:7))\n",
        "for (i in 1:length(opt)){\n",
        "    region = ifelse(df[, opt[i]] == \"selected\", region_list[i+1] , region) \n",
        "}\n",
        "\n",
        "df$vote1 <- car::recode(as.numeric(df$WSS36_b), \"1=1 ; 2=0; else=NA\")\n",
        "df$vote2 <- car::recode(as.numeric(df$WSS36_c), \"1=1 ; 2=0; else=NA\")\n",
        "df$voted <- ifelse(is.na(df$WSS36_b), df$vote2, df$vote1)\n",
        "            \n",
        "df$state = state\n",
        "df$region = region\n",
        "\n",
        "# Is state_residents the same as inputstate -- not in codebook\n",
        "\n",
        "# `1`= 5, `2`= 4,`3`= 3, `4`= 2, `5`= 1\n",
        "# `1`= 1, `2`= 2,`3`= 3, `4`= 4, `5`= 5\n",
        "\n",
        "agree_key <- list(`1`= 5, `2`= 4,`3`= 3, `4`= 2, `5`= 1)\n",
        "disagree_key <- list(`1`= 5, `2`= 4,`3`= 3, `4`= 2, `5`= 1)\n",
        "\n",
        "df =  df %>%\n",
        "       mutate(state  =  state) %>%\n",
        "       mutate(region =  region) %>%\n",
        "       mutate(state_residence =  inputstate) %>%\n",
        "       mutate(state_insult    = recode(as.numeric(WSS02_1), !!!agree_key)) %>%\n",
        "       mutate(state_common    = recode(as.numeric(WSS02_2), !!!agree_key)) %>%\n",
        "       mutate(state_interest  = recode(as.numeric(WSS02_3), !!!agree_key)) %>% \n",
        "       mutate(state_we        = recode(as.numeric(WSS02_4), !!!agree_key)) %>%\n",
        "       mutate(state_partme    = recode(as.numeric(WSS02_5), !!!agree_key)) %>%\n",
        "       mutate(state_proud     = recode(as.numeric(WSS02_6), !!!agree_key)) %>%\n",
        "       mutate(state_identity_identity_strength = state) %>%\n",
        "       mutate(moral_ind1      = recode(as.numeric(WSS09_b_1), !!!agree_key)) %>%\n",
        "       mutate(moral_ind2      = recode(as.numeric(WSS09_b_2), !!!agree_key)) %>%\n",
        "       mutate(moral_ind3      = recode(as.numeric(WSS09_b_3), !!!agree_key)) %>%\n",
        "       mutate(moral_ind4      = recode(as.numeric(WSS09_b_4), !!!agree_key)) %>%\n",
        "       mutate(moral_group     = recode(as.numeric(WSS09), `1`= \"Religious Leader\", `2`= \"Science\",`3`= \"Teacher\", `4`= \"Public\", `5`= \"Family\")) %>%\n",
        "       mutate(sdo1            = recode(as.numeric(WSS10_1), !!!agree_key)) %>%\n",
        "       mutate(sdo2r           = recode(as.numeric(WSS10_2), !!!disagree_key))  %>%\n",
        "       mutate(sdo3            = recode(as.numeric(WSS10_3), !!!agree_key))  %>%\n",
        "       mutate(sdo4r           = recode(as.numeric(WSS10_4), !!!disagree_key))  %>%\n",
        "       mutate(rr1             = recode(as.numeric(WSS11_1), !!!agree_key)) %>%\n",
        "       mutate(rr2r            = recode(as.numeric(WSS11_2), !!!disagree_key))  %>%\n",
        "       mutate(rr3r            = recode(as.numeric(WSS11_3), !!!disagree_key))  %>%\n",
        "       mutate(rr4             = recode(as.numeric(WSS11_4), !!!agree_key)) %>%\n",
        "       mutate(emp1            = recode(as.numeric(WSS12_1), !!!agree_key)) %>%\n",
        "       mutate(emp2            = recode(as.numeric(WSS12_2), !!!agree_key)) %>%\n",
        "       mutate(emp3            = recode(as.numeric(WSS12_3), !!!agree_key)) %>%\n",
        "       mutate(emp4            = recode(as.numeric(WSS12_4), !!!agree_key)) %>%\n",
        "       mutate(ind1            = recode(as.numeric(WSS13_1), !!!agree_key)) %>%\n",
        "       mutate(ind2r           = recode(as.numeric(WSS13_2), !!!disagree_key)) %>%\n",
        "       mutate(ind3            = recode(as.numeric(WSS13_3), !!!agree_key)) %>%\n",
        "       mutate(ind4r           = recode(as.numeric(WSS13_4), !!!disagree_key)) %>%\n",
        "       # The fifth one doesn't have text.\n",
        "       mutate(ind5r           = recode(as.numeric(WSS13_6), !!!disagree_key)) %>%\n",
        "       mutate(anxiety         = recode(as.numeric(WSS14_1), !!!disagree_key)) %>%\n",
        "       mutate(anger           = recode(as.numeric(WSS14_2), !!!disagree_key)) %>%\n",
        "       mutate(hope            = recode(as.numeric(WSS14_3), !!!disagree_key)) %>%\n",
        "       mutate(pride           = recode(as.numeric(WSS14_4), !!!disagree_key)) %>%\n",
        "       mutate(disgust         = recode(as.numeric(WSS14_5), !!!disagree_key)) %>%\n",
        "       mutate(enthusiasm      = recode(as.numeric(WSS14_6), !!!disagree_key)) %>%\n",
        "       mutate(urban_r1        = recode(as.numeric(WSS31_1), !!!agree_key)) %>%\n",
        "       mutate(urban_r3        = recode(as.numeric(WSS31_2), !!!agree_key)) %>%\n",
        "       mutate(urban_r3        = recode(as.numeric(WSS31_3), !!!agree_key)) %>%\n",
        "       mutate(urban_r4        = recode(as.numeric(WSS31_4), !!!agree_key)) %>%\n",
        "       mutate(trump_vote      = voted) %>%\n",
        "       mutate(age             = 2020 - birthyr) %>%\n",
        "       mutate(gen             = car::recode(age, \"18:39 = 'Millenial'; 40:59 = 'Gen X'; 60:80 = 'Boomer'; 80:92 = 'Greatest'\" )) %>%\n",
        "       mutate(female          = recode(as.numeric(gender), `1`=0, `2`=1)) %>%\n",
        "       mutate(white           = car::recode(as.numeric(race),  \"1=1 ;  2:8=0\"))  %>%\n",
        "       mutate(latino          = car::recode(as.numeric(race), \"3=1;  1:2=0; 4:8=0\"))  %>%\n",
        "       mutate(black           = car::recode(as.numeric(race), \" 2=1;  1=0; 3:8=0\"))  %>%\n",
        "       mutate(other           = car::recode(as.numeric(race), \" 1:3=0; 4:8=1\"))   %>%\n",
        "      # Always coded in conservative, republican direction\n",
        "       mutate(pid3            = car::recode(as.numeric(pid3), \"1='Democrat'; 2= 'Independent'; 3 = 'Republican'; else=NA\" )) %>%\n",
        "       mutate(pid7            = car::recode(as.numeric(pid7), \"8:9 = NA\"))  %>%\n",
        "       mutate(vote2016        = car::recode(as.numeric(presvote16post), \"1=0; 2=1; else=NA\")) %>%\n",
        "       mutate(married         = car::recode(as.numeric(marstat), \"1=1; 2:6=0\")) %>%\n",
        "       mutate(college         = car::recode(as.numeric(educ), \"1:3=0; 4:8=1\"))   %>%\n",
        "       mutate(income          = car::recode(as.numeric(faminc_new), \"1:7=0; 8:17=1\"))  %>% \n",
        "       mutate(ideology        = recode(as.numeric(ideo5), `1`=1, `2`=2, `3`=3, `4`=4, `5`=5)) %>%\n",
        "       mutate(christian       = recode(as.numeric(religpew), `1`=1, `2`=1, `3`=1, `4`=1, `5`=0, `6`=0, `7`=0, `8`=0, `9`=0, `10`=0, `11`=0, `12`=0)) %>%\n",
        "       mutate(interest        = recode(as.numeric(newsint), `1`=4, `2`=3, `3`=2, `4`=1)) %>%\n",
        "       mutate(auth1           = recode(as.numeric(WSS07_1a), `1`= 0, `2`=1)) %>% \n",
        "       mutate(auth2           = recode(as.numeric(WSS07_1b), `1`= 1, `2`=0)) %>% \n",
        "       mutate(auth3           = recode(as.numeric(WSS07_1c), `1`= 0, `2`=1)) %>% \n",
        "       mutate(auth4           = recode(as.numeric(WSS07_1d), `1`= 0, `2`=1)) %>%\n",
        "       mutate(az_t1           = recode(as.numeric(WSS28_split), `1`= 0, `2`=1)) %>%\n",
        "       mutate(az_rep_state    = as.numeric(WSS28_1)) %>%\n",
        "       mutate(az_rep_nat      = as.numeric(WSS28_2)) %>%\n",
        "       mutate(az_dem_state    = as.numeric(WSS28_3)) %>%\n",
        "       mutate(az_dem_nat      = as.numeric(WSS28_4)) %>%\n",
        "       mutate(VIOLENT         = recode(as.numeric(WSS40_1_split), `1`= 1, `2`=0)) %>%\n",
        "       mutate(violent         = recode(as.numeric(WSS40_1),  !!!agree_key)) %>%\n",
        "       mutate(burn            = recode(as.numeric(WSS40_2),  !!!agree_key)) %>%\n",
        "       mutate(court           = recode(as.numeric(WSS40_3),  !!!agree_key)) %>%\n",
        "       mutate(recount         = recode(as.numeric(WSS40_4),  !!!agree_key)) %>%\n",
        "       mutate(criticize       = recode(as.numeric(WSS40_5),  !!!agree_key)) %>%\n",
        "       mutate(SM              = recode(as.numeric(WSS40_5_split),  `1`= 1, `2`=0)) %>%\n",
        "       mutate(id              = seq(1:nrow(df)))\n",
        "### From Mark's file -- thought it would be easiest to put here rather than in the dplyr above.\n",
        "df$timing = 0 \n",
        "df$timing[df$id >= 2045 & df$id < 2604] = 1 #11/3\n",
        "df$timing[df$id >= 2604 & df$id < 2763] = 2 #11/4\n",
        "df$timing[df$id >= 2763 & df$id < 3004] = 3 #11/5\n",
        "df$timing[df$id >= 3005 & df$id < 3159] = 4 #11/6\n",
        "df$timing[df$id >= 3159 & df$id < 3300] = 5 #11/7\n",
        "df$timing[df$id >= 3300 & df$id < 3476] = 6 #11/8\n",
        "df$timing[df$id >= 3476 & df$id < 3600] = 7 #11/9\n",
        "\n",
        "df$post_election = NA \n",
        "df$post_election[df$timing == 0] = 0 #post election\n",
        "df$post_election[df$timing == 1] = 0 #post election\n",
        "df$post_election[df$timing > 1 & df$timing <5] = 1 #variable between post election day and prior to when election was called for Biden\n",
        "\n",
        "df$post_call = NA \n",
        "df$post_call[df$timing <5] = 0 #post election\n",
        "df$post_call[df$timing <4] = 1 #post election\n",
        "\n",
        "df$rwm = 0 \n",
        "df$rwm[df$WSS58_open == \"A non blue supportive source\" ] <- 1\n",
        "df$rwm[df$WSS58_open == \"Alex Jones News Max\" ] <- 1\n",
        "df$rwm[df$WSS58_open == \"All media lies for the democrats\" ] <- 1\n",
        "df$rwm[df$WSS58_open == \"American Thinker, The Last Refuge\" ] <- 1\n",
        "df$rwm[df$WSS58_open == \"Any non-Democrat supporting cable news, like OANN\" ] <- 1\n",
        "df$rwm[df$WSS58_open == \"American Thinker, The Last Refuge\" ] <- 1\n",
        "df$rwm[df$WSS58_open == \"Bill O'Reilly\" ] <- 1\n",
        "df$rwm[df$WSS58_open == \"Bill O'Reilly.com \" ] <- 1\n",
        "df$rwm[df$WSS58_open == \"Bill O'reilly\" ] <- 1\n",
        "df$rwm[df$WSS58_open == \"Blaze, Epoch Times\" ] <- 1\n",
        "df$rwm[df$WSS58_open == \"Bllaze, oann, Breibart, the daily cal..\" ] <- 1\n",
        "df$rwm[df$WSS58_open == \"Bongino\" ] <- 1\n",
        "df$rwm[df$WSS58_open == \"Breightbart and other news sites\" ] <- 1\n",
        "df$rwm[df$WSS58_open == \"Breitbart\" ] <- 1\n",
        "df$rwm[df$WSS58_open == \"Breitbart, Daily Mail, NewsMax\" ] <- 1\n",
        "df$rwm[df$WSS58_open == \"Breitbart, Epoch Times\" ] <- 1\n",
        "df$rwm[df$WSS58_open == \"Breitbart.com\" ] <- 1\n",
        "df$rwm[df$WSS58_open == \"Breitbart.com, One America News\" ] <- 1\n",
        "df$rwm[df$WSS58_open == \"Breitbart.com, The Blaze, OANN.com\" ] <- 1\n",
        "df$rwm[df$WSS58_open == \"Brietbart\" ] <- 1\n",
        "df$rwm[df$WSS58_open == \"Conservative Websites\" ] <- 1\n",
        "df$rwm[df$WSS58_open == \"Conservative radio. Rush Limbaugh #1\"] <- 1 \n",
        "df$rwm[df$WSS58_open == \"Conservative talk radio\" ] <- 1\n",
        "df$rwm[df$WSS58_open == \"Daily Wire\"] <- 1\n",
        "df$rwm[df$WSS58_open == \"Daily wire\" ] <- 1\n",
        "df$rwm[df$WSS58_open == \"Daily wire, Breitbart\"] <- 1\n",
        "df$rwm[df$WSS58_open == \"Dan Bongino\" ] <- 1\n",
        "df$rwm[df$WSS58_open == \"Dr. Steve Turley\"] <- 1\n",
        "df$rwm[df$WSS58_open == \"Ephich Times\" ] <- 1\n",
        "df$rwm[df$WSS58_open == \"Epoch Times\"] <- 1\n",
        "df$rwm[df$WSS58_open == \"Epoch Times Newspaper\" ] <- 1\n",
        "df$rwm[df$WSS58_open == \"Epoch Times, BBC America\"] <- 1\n",
        "df$rwm[df$WSS58_open == \"Epoch Times, Federalist, BBC\" ] <- 1\n",
        "df$rwm[df$WSS58_open == \"Epoch Times, The Federalist\"] <- 1\n",
        "df$rwm[df$WSS58_open == \"Epoch times\"] <- 1\n",
        "df$rwm[df$WSS58_open == \"Epoch, CBN\"] <- 1\n",
        "df$rwm[df$WSS58_open == \"Epoch, Denver Gazette\"] <- 1\n",
        "df$rwm[df$WSS58_open == \"Fox Business Channel, Newsmax\"] <- 1\n",
        "df$rwm[df$WSS58_open == \"Gateway pundit, breitbart\"] <- 1\n",
        "df$rwm[df$WSS58_open == \"LUCIANNE, REVOLVER\"] <- 1\n",
        "df$rwm[df$WSS58_open == \"Local Conservative radio stations\"] <- 1\n",
        "df$rwm[df$WSS58_open == \"New York Post, GodLikeProductions, NaturalNews\"] <- 1\n",
        "df$rwm[df$WSS58_open == \"News Max\"] <- 1\n",
        "df$rwm[df$WSS58_open == \"NewsMax\"] <- 1\n",
        "df$rwm[df$WSS58_open == \"NewsMax & The Blaze Network\"] <- 1\n",
        "df$rwm[df$WSS58_open == \"Newsmax\"] <- 1\n",
        "df$rwm[df$WSS58_open == \"Newsmax TV\"] <- 1\n",
        "df$rwm[df$WSS58_open == \"Newsmax and OANN\"] <- 1\n",
        "df$rwm[df$WSS58_open == \"Newsmax, Epoch Times\"] <- 1\n",
        "df$rwm[df$WSS58_open == \"Newsmax, OANN, Internet news sites\"] <- 1\n",
        "df$rwm[df$WSS58_open == \"OAN\"] <- 1\n",
        "df$rwm[df$WSS58_open == \"OAN N\"] <- 1\n",
        "df$rwm[df$WSS58_open == \"OAN Newsmax\"] <- 1\n",
        "df$rwm[df$WSS58_open == \"OAN, C-SPAN\"] <- 1\n",
        "df$rwm[df$WSS58_open == \"OAN, NEWSMAX\"] <- 1\n",
        "df$rwm[df$WSS58_open == \"OAN, Newsman\"] <- 1\n",
        "df$rwm[df$WSS58_open == \"OAN, Newsmax\"] <- 1\n",
        "df$rwm[df$WSS58_open == \"OANN\"] <- 1\n",
        "df$rwm[df$WSS58_open == \"OANN, Censored.news, etc\"] <- 1\n",
        "df$rwm[df$WSS58_open == \"OANN, Newsmax, blogs\"] <- 1\n",
        "df$rwm[df$WSS58_open == \"Oan news/ variety of blogs\"] <- 1\n",
        "df$rwm[df$WSS58_open == \"Oann\"] <- 1\n",
        "df$rwm[df$WSS58_open == \"One America News\"] <- 1\n",
        "df$rwm[df$WSS58_open == \"One America News , newsmax\"] <- 1\n",
        "df$rwm[df$WSS58_open == \"One America News Network\"] <- 1\n",
        "df$rwm[df$WSS58_open == \"One America News, NewsMax\"] <- 1\n",
        "df$rwm[df$WSS58_open == \"OneAmericaNews\"] <- 1\n",
        "df$rwm[df$WSS58_open == \"POANN\"] <- 1\n",
        "df$rwm[df$WSS58_open == \"Private Conservative news sources\"] <- 1\n",
        "df$rwm[df$WSS58_open == \"Q\"] <- 1\n",
        "df$rwm[df$WSS58_open == \"Quanon\"] <- 1\n",
        "df$rwm[df$WSS58_open == \"Redstate, Daily Caller, Townhall, Breitbart,etc.\"] <- 1\n",
        "df$rwm[df$WSS58_open == \"Rush Limbaugh\"] <- 1\n",
        "df$rwm[df$WSS58_open == \"Steven Crowder\"] <- 1\n",
        "df$rwm[df$WSS58_open == \"The AP, Epoch Times, BBC\"] <- 1\n",
        "df$rwm[df$WSS58_open == \"The Blaze\"] <- 1\n",
        "df$rwm[df$WSS58_open == \"The Daily Wire\"] <- 1\n",
        "df$rwm[df$WSS58_open == \"The Epoch Times\"] <- 1\n",
        "df$rwm[df$WSS58_open == \"The blaze tv\"] <- 1\n",
        "df$rwm[df$WSS58_open == \"Townhall.com\"] <- 1\n",
        "df$rwm[df$WSS58_open == \"Washington Examiner\"] <- 1\n",
        "df$rwm[df$WSS58_open == \"Wnd, EpochThimes, other trusted aggregators\"] <- 1\n",
        "df$rwm[df$WSS58_open == \"breitbart\"] <- 1\n",
        "df$rwm[df$WSS58_open == \"conservative sources\"] <- 1\n",
        "df$rwm[df$WSS58_open == \"drudge report, yahoo news\"] <- 1\n",
        "df$rwm[df$WSS58_open == \"epoch times\"] <- 1\n",
        "df$rwm[df$WSS58_open == \"news max and world net daily\"] <- 1\n",
        "df$rwm[df$WSS58_open == \"newsmax\"] <- 1\n",
        "df$rwm[df$WSS58_open == \"newsmax oan\"] <- 1\n",
        "\n",
        "df$rwm[df$WSS58_open == \"newsmax oan\"] <- 1\n",
        "\n",
        "psych::alpha(cbind(df$state_insult, df$state_common, \n",
        "                                df$state_interest, df$state_we, \n",
        "                                df$state_partme, df$proud))  ##\n",
        "psych::alpha(cbind(df$moral_ind1, df$moral_ind2, \n",
        "                                df$moral_ind3, df$moral_ind4))  ## \n",
        "psych::alpha(cbind(df$sdo1, df$sdo2r, \n",
        "                                df$sdo3, df$sdo4r), check.keys=TRUE)  ## \n",
        "psych::alpha(cbind(df$rr1, df$rr2r, \n",
        "                                df$rr3r, df$rr4), check.keys=TRUE)  ## \n",
        "psych::alpha(cbind(df$emp1, df$emp2, \n",
        "                                df$emp3, df$emp4), check.keys=TRUE)  ## \n",
        "psych::alpha(cbind(df$ind1, df$ind2r, \n",
        "                                df$ind3, df$ind4r, df$ind5r ), check.keys=TRUE)  ## \n",
        "psych::alpha(cbind(df$auth1, df$auth2, \n",
        "                                df$auth3, df$auth4), check.keys=TRUE)  ## \n",
        "psych::alpha(cbind(df$urban_r1, df$urban_r2, \n",
        "                                df$urban_r3, df$urban_r4), check.keys=TRUE)  ## \n",
        "psych::alpha(cbind(df$sdo1, df$sdo2r, \n",
        "                                df$sdo3, df$sdo4r), check.keys=TRUE)  ##\n",
        "#### These are some psychological scales:                                \n",
        "\n",
        "zero.one<-function(x){\n",
        "  min.x<-min(x, na.rm=T)\n",
        "  max.x<-max(x-min.x, na.rm=T)\n",
        "  return((x-min.x)/max.x)\n",
        "}\n",
        "\n",
        "df$state_pride = rowMeans(cbind(df$state_insult, df$state_common, \n",
        "                                df$state_interest, df$state_we, \n",
        "                                df$state_partme, df$proud), na.rm=T) %>% zero.one()\n",
        "df$moral_individualism = rowMeans(cbind(df$moral_ind1, df$moral_ind2, \n",
        "                                df$moral_ind3, df$moral_ind4), na.rm=T)%>% zero.one()\n",
        "df$rr = rowMeans(cbind(df$rr1, df$rr2r, \n",
        "                                df$rr3r, df$rr4), na.rm=T)%>% zero.one()\n",
        "\n",
        "df$group_empathy = rowMeans(cbind(df$emp1, df$emp2, \n",
        "                                df$emp3, df$emp4), na.rm=T)%>% zero.one()\n",
        "df$individualism = rowMeans(cbind(df$ind1, df$ind2r, \n",
        "                                df$ind3, df$ind4r, df$ind5r ), na.rm=T)%>% zero.one()\n",
        "df$authoritarianism = rowMeans(cbind(df$auth1, df$auth2, \n",
        "                                df$auth3, df$auth4), na.rm=T)\n",
        "df$urban_resentment = rowMeans(cbind(df$urban_r1, df$urban_r2, \n",
        "                                df$urban_r3, df$urban_r4), na.rm=T)%>% zero.one()\n",
        "df$sdo    = rowMeans(cbind(df$sdo1, df$sdo2r, \n",
        "                                df$sdo3, df$sdo4r), na.rm=T)%>% zero.one()\n",
        "\n"
      ],
      "execution_count": 14,
      "outputs": [
        {
          "output_type": "stream",
          "text": [
            "Warning message:\n",
            "“Problem with `mutate()` input `moral_group`.\n",
            "\u001b[34mℹ\u001b[39m Unreplaced values treated as NA as .x is not compatible. Please specify replacements exhaustively or supply .default\n",
            "\u001b[34mℹ\u001b[39m Input `moral_group` is `recode(...)`.”\n"
          ],
          "name": "stderr"
        },
        {
          "output_type": "display_data",
          "data": {
            "text/plain": [
              "\n",
              "Reliability analysis   \n",
              "Call: psych::alpha(x = cbind(df$state_insult, df$state_common, df$state_interest, \n",
              "    df$state_we, df$state_partme, df$proud))\n",
              "\n",
              "  raw_alpha std.alpha G6(smc) average_r S/N    ase mean   sd median_r\n",
              "      0.83      0.83     0.8       0.5 4.9 0.0044  3.4 0.91     0.49\n",
              "\n",
              " lower alpha upper     95% confidence boundaries\n",
              "0.82 0.83 0.84 \n",
              "\n",
              " Reliability if an item is dropped:\n",
              "   raw_alpha std.alpha G6(smc) average_r S/N alpha se   var.r med.r\n",
              "V1      0.80      0.80    0.75      0.50 4.0   0.0054 0.00253  0.51\n",
              "V2      0.79      0.79    0.75      0.49 3.9   0.0056 0.00141  0.49\n",
              "V3      0.81      0.81    0.76      0.52 4.3   0.0052 0.00090  0.52\n",
              "V4      0.80      0.80    0.75      0.50 3.9   0.0055 0.00088  0.49\n",
              "V5      0.79      0.79    0.74      0.48 3.7   0.0058 0.00134  0.48\n",
              "\n",
              " Item statistics \n",
              "      n raw.r std.r r.cor r.drop mean  sd\n",
              "V1 3600  0.78  0.77  0.68   0.62  3.1 1.2\n",
              "V2 3600  0.77  0.78  0.71   0.65  3.5 1.1\n",
              "V3 3600  0.74  0.74  0.64   0.59  3.3 1.2\n",
              "V4 3600  0.78  0.78  0.70   0.63  3.7 1.2\n",
              "V5 3600  0.80  0.80  0.73   0.66  3.6 1.2\n",
              "\n",
              "Non missing response frequency for each item\n",
              "        1    2    3    4    5 miss\n",
              "[1,] 0.14 0.16 0.29 0.28 0.14    0\n",
              "[2,] 0.06 0.13 0.24 0.40 0.16    0\n",
              "[3,] 0.10 0.13 0.32 0.31 0.15    0\n",
              "[4,] 0.07 0.10 0.22 0.34 0.28    0\n",
              "[5,] 0.09 0.12 0.21 0.33 0.26    0"
            ]
          },
          "metadata": {
            "tags": []
          }
        },
        {
          "output_type": "display_data",
          "data": {
            "text/plain": [
              "\n",
              "Reliability analysis   \n",
              "Call: psych::alpha(x = cbind(df$moral_ind1, df$moral_ind2, df$moral_ind3, \n",
              "    df$moral_ind4))\n",
              "\n",
              "  raw_alpha std.alpha G6(smc) average_r S/N    ase mean sd median_r\n",
              "      0.84      0.84     0.8      0.57 5.4 0.0043  3.1  1     0.58\n",
              "\n",
              " lower alpha upper     95% confidence boundaries\n",
              "0.83 0.84 0.85 \n",
              "\n",
              " Reliability if an item is dropped:\n",
              "   raw_alpha std.alpha G6(smc) average_r S/N alpha se   var.r med.r\n",
              "V1      0.80      0.80    0.73      0.58 4.1   0.0056 0.00031  0.59\n",
              "V2      0.79      0.79    0.72      0.56 3.9   0.0060 0.00180  0.56\n",
              "V3      0.79      0.79    0.72      0.56 3.8   0.0060 0.00118  0.57\n",
              "V4      0.81      0.81    0.74      0.59 4.3   0.0055 0.00028  0.59\n",
              "\n",
              " Item statistics \n",
              "      n raw.r std.r r.cor r.drop mean  sd\n",
              "V1 3599  0.81  0.82  0.73   0.67  3.3 1.2\n",
              "V2 3599  0.84  0.83  0.76   0.69  3.3 1.3\n",
              "V3 3600  0.83  0.84  0.76   0.70  3.3 1.2\n",
              "V4 3600  0.81  0.81  0.71   0.65  2.6 1.3\n",
              "\n",
              "Non missing response frequency for each item\n",
              "        1    2    3    4    5 miss\n",
              "[1,] 0.11 0.15 0.27 0.30 0.17    0\n",
              "[2,] 0.12 0.18 0.20 0.26 0.23    0\n",
              "[3,] 0.09 0.17 0.24 0.31 0.19    0\n",
              "[4,] 0.23 0.28 0.22 0.17 0.10    0"
            ]
          },
          "metadata": {
            "tags": []
          }
        },
        {
          "output_type": "stream",
          "text": [
            "Warning message in psych::alpha(cbind(df$sdo1, df$sdo2r, df$sdo3, df$sdo4r), check.keys = TRUE):\n",
            "“Some items were negatively correlated with total scale and were automatically reversed.\n",
            " This is indicated by a negative sign for the variable name.”\n"
          ],
          "name": "stderr"
        },
        {
          "output_type": "display_data",
          "data": {
            "text/plain": [
              "\n",
              "Reliability analysis   \n",
              "Call: psych::alpha(x = cbind(df$sdo1, df$sdo2r, df$sdo3, df$sdo4r), \n",
              "    check.keys = TRUE)\n",
              "\n",
              "  raw_alpha std.alpha G6(smc) average_r S/N   ase mean   sd median_r\n",
              "      0.59       0.6    0.55      0.27 1.5 0.011  3.8 0.76     0.22\n",
              "\n",
              " lower alpha upper     95% confidence boundaries\n",
              "0.56 0.59 0.61 \n",
              "\n",
              " Reliability if an item is dropped:\n",
              "    raw_alpha std.alpha G6(smc) average_r  S/N alpha se  var.r med.r\n",
              "V1-      0.51      0.55    0.47      0.29 1.21    0.014 0.0204  0.23\n",
              "V2       0.50      0.50    0.41      0.25 0.98    0.014 0.0097  0.20\n",
              "V3-      0.52      0.55    0.47      0.29 1.21    0.014 0.0200  0.21\n",
              "V4       0.53      0.52    0.43      0.27 1.10    0.013 0.0064  0.23\n",
              "\n",
              " Item statistics \n",
              "       n raw.r std.r r.cor r.drop mean   sd\n",
              "V1- 3600  0.69  0.66  0.46   0.37  3.5 1.23\n",
              "V2  3600  0.66  0.70  0.56   0.39  4.2 1.03\n",
              "V3- 3600  0.72  0.66  0.46   0.37  3.1 1.37\n",
              "V4  3600  0.60  0.68  0.52   0.37  4.4 0.89\n",
              "\n",
              "Non missing response frequency for each item\n",
              "        1    2    3    4    5 miss\n",
              "[1,] 0.29 0.21 0.28 0.16 0.06    0\n",
              "[2,] 0.02 0.06 0.16 0.26 0.50    0\n",
              "[3,] 0.20 0.20 0.24 0.19 0.17    0\n",
              "[4,] 0.01 0.02 0.12 0.26 0.59    0"
            ]
          },
          "metadata": {
            "tags": []
          }
        },
        {
          "output_type": "stream",
          "text": [
            "Warning message in psych::alpha(cbind(df$rr1, df$rr2r, df$rr3r, df$rr4), check.keys = TRUE):\n",
            "“Some items were negatively correlated with total scale and were automatically reversed.\n",
            " This is indicated by a negative sign for the variable name.”\n"
          ],
          "name": "stderr"
        },
        {
          "output_type": "display_data",
          "data": {
            "text/plain": [
              "\n",
              "Reliability analysis   \n",
              "Call: psych::alpha(x = cbind(df$rr1, df$rr2r, df$rr3r, df$rr4), check.keys = TRUE)\n",
              "\n",
              "  raw_alpha std.alpha G6(smc) average_r S/N   ase mean  sd median_r\n",
              "      0.89      0.89    0.87      0.67 8.1 0.003  3.1 1.3     0.65\n",
              "\n",
              " lower alpha upper     95% confidence boundaries\n",
              "0.88 0.89 0.9 \n",
              "\n",
              " Reliability if an item is dropped:\n",
              "    raw_alpha std.alpha G6(smc) average_r S/N alpha se  var.r med.r\n",
              "V1-      0.85      0.85    0.81      0.66 5.7   0.0043 0.0103  0.61\n",
              "V2       0.86      0.86    0.81      0.67 6.0   0.0041 0.0047  0.65\n",
              "V3       0.85      0.85    0.80      0.66 5.8   0.0043 0.0061  0.65\n",
              "V4-      0.87      0.87    0.82      0.69 6.7   0.0038 0.0048  0.65\n",
              "\n",
              " Item statistics \n",
              "       n raw.r std.r r.cor r.drop mean  sd\n",
              "V1- 3600  0.88  0.88  0.83   0.78  2.8 1.5\n",
              "V2  3600  0.87  0.87  0.82   0.76  3.3 1.5\n",
              "V3  3600  0.87  0.87  0.83   0.77  3.2 1.4\n",
              "V4- 3600  0.84  0.85  0.78   0.72  3.3 1.4\n",
              "\n",
              "Non missing response frequency for each item\n",
              "        1    2    3    4    5 miss\n",
              "[1,] 0.20 0.14 0.18 0.20 0.28    0\n",
              "[2,] 0.18 0.15 0.16 0.20 0.31    0\n",
              "[3,] 0.19 0.14 0.21 0.21 0.26    0\n",
              "[4,] 0.30 0.16 0.21 0.19 0.14    0"
            ]
          },
          "metadata": {
            "tags": []
          }
        },
        {
          "output_type": "display_data",
          "data": {
            "text/plain": [
              "\n",
              "Reliability analysis   \n",
              "Call: psych::alpha(x = cbind(df$emp1, df$emp2, df$emp3, df$emp4), check.keys = TRUE)\n",
              "\n",
              "  raw_alpha std.alpha G6(smc) average_r S/N    ase mean  sd median_r\n",
              "      0.87      0.87    0.84      0.62 6.6 0.0036  3.6 0.9      0.6\n",
              "\n",
              " lower alpha upper     95% confidence boundaries\n",
              "0.86 0.87 0.87 \n",
              "\n",
              " Reliability if an item is dropped:\n",
              "   raw_alpha std.alpha G6(smc) average_r S/N alpha se   var.r med.r\n",
              "V1      0.85      0.85    0.80      0.65 5.6   0.0044 0.00820  0.61\n",
              "V2      0.80      0.80    0.73      0.58 4.1   0.0057 0.00083  0.59\n",
              "V3      0.81      0.82    0.75      0.60 4.4   0.0054 0.00234  0.61\n",
              "V4      0.85      0.85    0.81      0.66 5.9   0.0043 0.00735  0.64\n",
              "\n",
              " Item statistics \n",
              "      n raw.r std.r r.cor r.drop mean  sd\n",
              "V1 3600  0.82  0.82  0.72   0.67  3.5 1.1\n",
              "V2 3600  0.88  0.89  0.85   0.79  3.6 1.0\n",
              "V3 3600  0.87  0.87  0.82   0.76  3.6 1.1\n",
              "V4 3599  0.81  0.81  0.70   0.66  3.8 1.1\n",
              "\n",
              "Non missing response frequency for each item\n",
              "        1    2    3    4    5 miss\n",
              "[1,] 0.04 0.12 0.33 0.30 0.20    0\n",
              "[2,] 0.03 0.11 0.30 0.33 0.23    0\n",
              "[3,] 0.04 0.11 0.28 0.32 0.24    0\n",
              "[4,] 0.03 0.09 0.26 0.32 0.30    0"
            ]
          },
          "metadata": {
            "tags": []
          }
        },
        {
          "output_type": "stream",
          "text": [
            "Warning message in psych::alpha(cbind(df$ind1, df$ind2r, df$ind3, df$ind4r, df$ind5r), :\n",
            "“Some items were negatively correlated with total scale and were automatically reversed.\n",
            " This is indicated by a negative sign for the variable name.”\n"
          ],
          "name": "stderr"
        },
        {
          "output_type": "display_data",
          "data": {
            "text/plain": [
              "\n",
              "Reliability analysis   \n",
              "Call: psych::alpha(x = cbind(df$ind1, df$ind2r, df$ind3, df$ind4r, \n",
              "    df$ind5r), check.keys = TRUE)\n",
              "\n",
              "  raw_alpha std.alpha G6(smc) average_r S/N    ase mean   sd median_r\n",
              "      0.76      0.77    0.75       0.4 3.3 0.0064  2.9 0.86     0.36\n",
              "\n",
              " lower alpha upper     95% confidence boundaries\n",
              "0.75 0.76 0.77 \n",
              "\n",
              " Reliability if an item is dropped:\n",
              "    raw_alpha std.alpha G6(smc) average_r S/N alpha se  var.r med.r\n",
              "V1-      0.72      0.73    0.69      0.40 2.6   0.0078 0.0192  0.38\n",
              "V2       0.72      0.72    0.70      0.39 2.6   0.0079 0.0202  0.33\n",
              "V3-      0.75      0.75    0.71      0.43 3.0   0.0068 0.0118  0.42\n",
              "V4       0.70      0.71    0.66      0.38 2.4   0.0081 0.0095  0.36\n",
              "V5       0.71      0.71    0.66      0.38 2.4   0.0080 0.0081  0.36\n",
              "\n",
              " Item statistics \n",
              "       n raw.r std.r r.cor r.drop mean  sd\n",
              "V1- 3600  0.71  0.71  0.61   0.53  2.1 1.2\n",
              "V2  3600  0.73  0.72  0.61   0.54  2.9 1.3\n",
              "V3- 3600  0.68  0.66  0.53   0.45  3.0 1.3\n",
              "V4  3600  0.74  0.75  0.68   0.57  3.3 1.1\n",
              "V5  3600  0.73  0.75  0.68   0.57  3.2 1.1\n",
              "\n",
              "Non missing response frequency for each item\n",
              "        1    2    3    4    5 miss\n",
              "[1,] 0.04 0.11 0.13 0.31 0.41    0\n",
              "[2,] 0.16 0.25 0.21 0.25 0.12    0\n",
              "[3,] 0.16 0.20 0.24 0.24 0.16    0\n",
              "[4,] 0.08 0.19 0.27 0.34 0.13    0\n",
              "[5,] 0.08 0.20 0.25 0.35 0.12    0"
            ]
          },
          "metadata": {
            "tags": []
          }
        },
        {
          "output_type": "display_data",
          "data": {
            "text/plain": [
              "\n",
              "Reliability analysis   \n",
              "Call: psych::alpha(x = cbind(df$auth1, df$auth2, df$auth3, df$auth4), \n",
              "    check.keys = TRUE)\n",
              "\n",
              "  raw_alpha std.alpha G6(smc) average_r S/N    ase mean   sd median_r\n",
              "      0.66      0.66    0.59      0.32 1.9 0.0094 0.44 0.34     0.34\n",
              "\n",
              " lower alpha upper     95% confidence boundaries\n",
              "0.64 0.66 0.67 \n",
              "\n",
              " Reliability if an item is dropped:\n",
              "   raw_alpha std.alpha G6(smc) average_r S/N alpha se   var.r med.r\n",
              "V1      0.61      0.61    0.51      0.34 1.6    0.011 0.00018  0.34\n",
              "V2      0.57      0.56    0.47      0.30 1.3    0.013 0.00453  0.33\n",
              "V3      0.61      0.61    0.51      0.35 1.6    0.011 0.00020  0.35\n",
              "V4      0.56      0.56    0.47      0.30 1.3    0.013 0.00416  0.33\n",
              "\n",
              " Item statistics \n",
              "      n raw.r std.r r.cor r.drop mean   sd\n",
              "V1 3598  0.69  0.68  0.50   0.40 0.56 0.50\n",
              "V2 3599  0.72  0.72  0.58   0.47 0.39 0.49\n",
              "V3 3598  0.66  0.68  0.49   0.40 0.31 0.46\n",
              "V4 3599  0.73  0.73  0.58   0.47 0.52 0.50\n",
              "\n",
              "Non missing response frequency for each item\n",
              "        0    1 miss\n",
              "[1,] 0.44 0.56    0\n",
              "[2,] 0.61 0.39    0\n",
              "[3,] 0.69 0.31    0\n",
              "[4,] 0.48 0.52    0"
            ]
          },
          "metadata": {
            "tags": []
          }
        },
        {
          "output_type": "display_data",
          "data": {
            "text/plain": [
              "\n",
              "Reliability analysis   \n",
              "Call: psych::alpha(x = cbind(df$urban_r1, df$urban_r2, df$urban_r3, \n",
              "    df$urban_r4), check.keys = TRUE)\n",
              "\n",
              "  raw_alpha std.alpha G6(smc) average_r S/N  ase mean   sd median_r\n",
              "      0.63      0.63    0.54      0.36 1.7 0.01  2.9 0.84     0.33\n",
              "\n",
              " lower alpha upper     95% confidence boundaries\n",
              "0.61 0.63 0.65 \n",
              "\n",
              " Reliability if an item is dropped:\n",
              "   raw_alpha std.alpha G6(smc) average_r  S/N alpha se var.r med.r\n",
              "V1      0.63      0.63    0.46      0.46 1.73    0.012    NA  0.46\n",
              "V2      0.48      0.50    0.33      0.33 0.98    0.017    NA  0.33\n",
              "V3      0.45      0.46    0.30      0.30 0.86    0.018    NA  0.30\n",
              "\n",
              " Item statistics \n",
              "      n raw.r std.r r.cor r.drop mean   sd\n",
              "V1 3600  0.66  0.72  0.46   0.37  3.2 0.93\n",
              "V2 3600  0.79  0.77  0.60   0.48  2.5 1.14\n",
              "V3 3600  0.82  0.79  0.62   0.50  3.0 1.22\n",
              "\n",
              "Non missing response frequency for each item\n",
              "        1    2    3    4    5 miss\n",
              "[1,] 0.05 0.08 0.58 0.18 0.12    0\n",
              "[2,] 0.27 0.22 0.36 0.10 0.05    0\n",
              "[3,] 0.16 0.16 0.38 0.17 0.13    0"
            ]
          },
          "metadata": {
            "tags": []
          }
        },
        {
          "output_type": "stream",
          "text": [
            "Warning message in psych::alpha(cbind(df$sdo1, df$sdo2r, df$sdo3, df$sdo4r), check.keys = TRUE):\n",
            "“Some items were negatively correlated with total scale and were automatically reversed.\n",
            " This is indicated by a negative sign for the variable name.”\n"
          ],
          "name": "stderr"
        },
        {
          "output_type": "display_data",
          "data": {
            "text/plain": [
              "\n",
              "Reliability analysis   \n",
              "Call: psych::alpha(x = cbind(df$sdo1, df$sdo2r, df$sdo3, df$sdo4r), \n",
              "    check.keys = TRUE)\n",
              "\n",
              "  raw_alpha std.alpha G6(smc) average_r S/N   ase mean   sd median_r\n",
              "      0.59       0.6    0.55      0.27 1.5 0.011  3.8 0.76     0.22\n",
              "\n",
              " lower alpha upper     95% confidence boundaries\n",
              "0.56 0.59 0.61 \n",
              "\n",
              " Reliability if an item is dropped:\n",
              "    raw_alpha std.alpha G6(smc) average_r  S/N alpha se  var.r med.r\n",
              "V1-      0.51      0.55    0.47      0.29 1.21    0.014 0.0204  0.23\n",
              "V2       0.50      0.50    0.41      0.25 0.98    0.014 0.0097  0.20\n",
              "V3-      0.52      0.55    0.47      0.29 1.21    0.014 0.0200  0.21\n",
              "V4       0.53      0.52    0.43      0.27 1.10    0.013 0.0064  0.23\n",
              "\n",
              " Item statistics \n",
              "       n raw.r std.r r.cor r.drop mean   sd\n",
              "V1- 3600  0.69  0.66  0.46   0.37  3.5 1.23\n",
              "V2  3600  0.66  0.70  0.56   0.39  4.2 1.03\n",
              "V3- 3600  0.72  0.66  0.46   0.37  3.1 1.37\n",
              "V4  3600  0.60  0.68  0.52   0.37  4.4 0.89\n",
              "\n",
              "Non missing response frequency for each item\n",
              "        1    2    3    4    5 miss\n",
              "[1,] 0.29 0.21 0.28 0.16 0.06    0\n",
              "[2,] 0.02 0.06 0.16 0.26 0.50    0\n",
              "[3,] 0.20 0.20 0.24 0.19 0.17    0\n",
              "[4,] 0.01 0.02 0.12 0.26 0.59    0"
            ]
          },
          "metadata": {
            "tags": []
          }
        }
      ]
    },
    {
      "cell_type": "markdown",
      "metadata": {
        "id": "idMbGF-i-9fs"
      },
      "source": [
        "Here are some simple helper functions I wrote to generate predictions/clean data/etc. You should load these as well; otherwise, some of the commands below will not work."
      ]
    },
    {
      "cell_type": "markdown",
      "metadata": {
        "id": "ZGoycqkp_MC2"
      },
      "source": [
        "## Factor Analysis\n",
        "\n",
        "I started by working from Mark's analysis. It turns out they really don't scale together well. The flag burning and protest (violent or not specified) go together, whereas the softer forms of contestation through courts, recounts, and criticicism (social media or not specified), generally go together well. I show this in two ways: The confirmatory factor model doesn't support a one-dimensional solution. The exploratory factor model suggests a 1 or 2 factor solution. It's somewhat ambiguous. I'm not sure how much of we should present, but it probably should guide what we do with the items."
      ]
    },
    {
      "cell_type": "code",
      "metadata": {
        "id": "CoVPuRCnTt7M",
        "colab": {
          "base_uri": "https://localhost:8080/",
          "height": 1000
        },
        "outputId": "828d0d42-d64f-487c-cdd2-c2c645305d86"
      },
      "source": [
        "### Factor Analysis of Contestation Items\n",
        "\n",
        "names = c(\"violent\", \"burn\", \"court\", \"recount\", \"criticize\")\n",
        "dat   = df[names(df) %in% names] %>% na.omit\n",
        "model1  <- 'contest =~ violent + burn + court + \n",
        "            recount + criticize' ## It doesn't seem to fit well -- I don't know why\n",
        "fit1 <- cfa(model1, ordered=c(\"violent\", \"burn\", \"court\", \"recount\", \"criticize\"), data=dat)\n",
        "fit1 %>% summary(fit.measures = \"true\")\n",
        "model = fa(dat, 2)\n",
        "print(\"eigenvalues:\")\n",
        "model$e.values\n",
        "model\n",
        "alpha(cbind(dat$violent, dat$burn, dat$court, dat$recount, dat$criticize), check.keys=TRUE)  ## 0.69\n",
        "alpha(cbind(dat$violent, dat$burn), check.keys=TRUE) \n",
        "alpha(cbind(dat$court, dat$recount, dat$criticize), check.keys=TRUE) \n",
        "### This follows the general structure -- an \"extreme\" form of contestation, and a \"softer\" form\n",
        "df$hard = rowMeans(cbind(df$violent, df$burn), na.rm=T)%>% zero.one()\n",
        "df$soft = rowMeans(cbind(df$court, df$recount, df$criticize), na.rm=T)%>% zero.one()"
      ],
      "execution_count": null,
      "outputs": [
        {
          "output_type": "stream",
          "text": [
            "lavaan 0.6-7 ended normally after 16 iterations\n",
            "\n",
            "  Estimator                                       DWLS\n",
            "  Optimization method                           NLMINB\n",
            "  Number of free parameters                         25\n",
            "                                                      \n",
            "  Number of observations                          3598\n",
            "                                                      \n",
            "Model Test User Model:\n",
            "                                              Standard      Robust\n",
            "  Test Statistic                               635.981     908.272\n",
            "  Degrees of freedom                                 5           5\n",
            "  P-value (Chi-square)                           0.000       0.000\n",
            "  Scaling correction factor                                  0.701\n",
            "  Shift parameter                                            0.573\n",
            "       simple second-order correction                             \n",
            "\n",
            "Model Test Baseline Model:\n",
            "\n",
            "  Test statistic                              8242.867    6280.826\n",
            "  Degrees of freedom                                10          10\n",
            "  P-value                                        0.000       0.000\n",
            "  Scaling correction factor                                  1.313\n",
            "\n",
            "User Model versus Baseline Model:\n",
            "\n",
            "  Comparative Fit Index (CFI)                    0.923       0.856\n",
            "  Tucker-Lewis Index (TLI)                       0.847       0.712\n",
            "                                                                  \n",
            "  Robust Comparative Fit Index (CFI)                            NA\n",
            "  Robust Tucker-Lewis Index (TLI)                               NA\n",
            "\n",
            "Root Mean Square Error of Approximation:\n",
            "\n",
            "  RMSEA                                          0.187       0.224\n",
            "  90 Percent confidence interval - lower         0.175       0.212\n",
            "  90 Percent confidence interval - upper         0.200       0.237\n",
            "  P-value RMSEA <= 0.05                          0.000       0.000\n",
            "                                                                  \n",
            "  Robust RMSEA                                                  NA\n",
            "  90 Percent confidence interval - lower                        NA\n",
            "  90 Percent confidence interval - upper                        NA\n",
            "\n",
            "Standardized Root Mean Square Residual:\n",
            "\n",
            "  SRMR                                           0.097       0.097\n",
            "\n",
            "Parameter Estimates:\n",
            "\n",
            "  Standard errors                           Robust.sem\n",
            "  Information                                 Expected\n",
            "  Information saturated (h1) model        Unstructured\n",
            "\n",
            "Latent Variables:\n",
            "                   Estimate  Std.Err  z-value  P(>|z|)\n",
            "  contest =~                                          \n",
            "    violent           1.000                           \n",
            "    burn              1.011    0.028   36.373    0.000\n",
            "    court             1.041    0.024   43.799    0.000\n",
            "    recount           0.732    0.023   32.283    0.000\n",
            "    criticize         0.700    0.023   30.139    0.000\n",
            "\n",
            "Intercepts:\n",
            "                   Estimate  Std.Err  z-value  P(>|z|)\n",
            "   .violent           0.000                           \n",
            "   .burn              0.000                           \n",
            "   .court             0.000                           \n",
            "   .recount           0.000                           \n",
            "   .criticize         0.000                           \n",
            "    contest           0.000                           \n",
            "\n",
            "Thresholds:\n",
            "                   Estimate  Std.Err  z-value  P(>|z|)\n",
            "    violent|t1       -0.841    0.024  -35.316    0.000\n",
            "    violent|t2       -0.340    0.021  -15.938    0.000\n",
            "    violent|t3        0.380    0.021   17.692    0.000\n",
            "    violent|t4        1.079    0.026   41.527    0.000\n",
            "    burn|t1           0.105    0.021    5.033    0.000\n",
            "    burn|t2           0.477    0.022   21.877    0.000\n",
            "    burn|t3           1.084    0.026   41.633    0.000\n",
            "    burn|t4           1.527    0.033   46.734    0.000\n",
            "    court|t1         -1.030    0.025  -40.443    0.000\n",
            "    court|t2         -0.482    0.022  -22.107    0.000\n",
            "    court|t3          0.516    0.022   23.516    0.000\n",
            "    court|t4          1.262    0.028   44.716    0.000\n",
            "    recount|t1       -1.713    0.037  -46.403    0.000\n",
            "    recount|t2       -1.261    0.028  -44.695    0.000\n",
            "    recount|t3       -0.274    0.021  -12.953    0.000\n",
            "    recount|t4        0.840    0.024   35.286    0.000\n",
            "    criticize|t1     -0.873    0.024  -36.289    0.000\n",
            "    criticize|t2     -0.319    0.021  -14.977    0.000\n",
            "    criticize|t3      0.607    0.022   27.161    0.000\n",
            "    criticize|t4      1.246    0.028   44.485    0.000\n",
            "\n",
            "Variances:\n",
            "                   Estimate  Std.Err  z-value  P(>|z|)\n",
            "   .violent           0.516                           \n",
            "   .burn              0.505                           \n",
            "   .court             0.475                           \n",
            "   .recount           0.741                           \n",
            "   .criticize         0.763                           \n",
            "    contest           0.484    0.017   28.969    0.000\n",
            "\n",
            "Scales y*:\n",
            "                   Estimate  Std.Err  z-value  P(>|z|)\n",
            "    violent           1.000                           \n",
            "    burn              1.000                           \n",
            "    court             1.000                           \n",
            "    recount           1.000                           \n",
            "    criticize         1.000                           \n",
            "\n"
          ],
          "name": "stdout"
        },
        {
          "output_type": "stream",
          "text": [
            "Loading required namespace: GPArotation\n",
            "\n",
            "Warning message in fac(r = r, nfactors = nfactors, n.obs = n.obs, rotate = rotate, :\n",
            "“I am sorry, to do these rotations requires the GPArotation package to be installed”\n"
          ],
          "name": "stderr"
        },
        {
          "output_type": "stream",
          "text": [
            "[1] \"eigenvalues:\"\n"
          ],
          "name": "stdout"
        },
        {
          "output_type": "display_data",
          "data": {
            "text/plain": [
              "[1] 2.2486608 1.0461679 0.7334857 0.5160379 0.4556478"
            ],
            "text/latex": "\\begin{enumerate*}\n\\item 2.24866075154452\n\\item 1.04616791025403\n\\item 0.733485706904821\n\\item 0.516037880035896\n\\item 0.455647751260726\n\\end{enumerate*}\n",
            "text/markdown": "1. 2.24866075154452\n2. 1.04616791025403\n3. 0.733485706904821\n4. 0.516037880035896\n5. 0.455647751260726\n\n\n",
            "text/html": [
              "<style>\n",
              ".list-inline {list-style: none; margin:0; padding: 0}\n",
              ".list-inline>li {display: inline-block}\n",
              ".list-inline>li:not(:last-child)::after {content: \"\\00b7\"; padding: 0 .5ex}\n",
              "</style>\n",
              "<ol class=list-inline><li>2.24866075154452</li><li>1.04616791025403</li><li>0.733485706904821</li><li>0.516037880035896</li><li>0.455647751260726</li></ol>\n"
            ]
          },
          "metadata": {
            "tags": []
          }
        },
        {
          "output_type": "display_data",
          "data": {
            "text/plain": [
              "Factor Analysis using method =  minres\n",
              "Call: fa(r = dat, nfactors = 2)\n",
              "Standardized loadings (pattern matrix) based upon correlation matrix\n",
              "           MR1   MR2   h2     u2 com\n",
              "violent   0.59 -0.10 0.35 0.6475 1.1\n",
              "burn      0.82 -0.57 1.00 0.0045 1.8\n",
              "court     0.68  0.39 0.62 0.3839 1.6\n",
              "recount   0.42  0.35 0.30 0.7001 1.9\n",
              "criticize 0.42  0.26 0.24 0.7556 1.7\n",
              "\n",
              "                       MR1  MR2\n",
              "SS loadings           1.83 0.68\n",
              "Proportion Var        0.37 0.14\n",
              "Cumulative Var        0.37 0.50\n",
              "Proportion Explained  0.73 0.27\n",
              "Cumulative Proportion 0.73 1.00\n",
              "\n",
              "Mean item complexity =  1.6\n",
              "Test of the hypothesis that 2 factors are sufficient.\n",
              "\n",
              "The degrees of freedom for the null model are  10  and the objective function was  0.9 with Chi Square of  3242.56\n",
              "The degrees of freedom for the model are 1  and the objective function was  0 \n",
              "\n",
              "The root mean square of the residuals (RMSR) is  0.01 \n",
              "The df corrected root mean square of the residuals is  0.03 \n",
              "\n",
              "The harmonic number of observations is  3598 with the empirical chi square  6.74  with prob <  0.0095 \n",
              "The total number of observations was  3598  with Likelihood Chi Square =  9.91  with prob <  0.0016 \n",
              "\n",
              "Tucker Lewis Index of factoring reliability =  0.972\n",
              "RMSEA index =  0.05  and the 90 % confidence intervals are  0.025 0.08\n",
              "BIC =  1.72\n",
              "Fit based upon off diagonal values = 1\n",
              "Measures of factor score adequacy             \n",
              "                                                   MR1  MR2\n",
              "Correlation of (regression) scores with factors   0.95 0.88\n",
              "Multiple R square of scores with factors          0.89 0.78\n",
              "Minimum correlation of possible factor scores     0.79 0.56"
            ]
          },
          "metadata": {
            "tags": []
          }
        },
        {
          "output_type": "display_data",
          "data": {
            "text/plain": [
              "\n",
              "Reliability analysis   \n",
              "Call: alpha(x = cbind(dat$violent, dat$burn, dat$court, dat$recount, \n",
              "    dat$criticize), check.keys = TRUE)\n",
              "\n",
              "  raw_alpha std.alpha G6(smc) average_r S/N    ase mean  sd median_r\n",
              "      0.69      0.69    0.67      0.31 2.2 0.0081  2.9 0.8      0.3\n",
              "\n",
              " lower alpha upper     95% confidence boundaries\n",
              "0.67 0.69 0.71 \n",
              "\n",
              " Reliability if an item is dropped:\n",
              "   raw_alpha std.alpha G6(smc) average_r S/N alpha se  var.r med.r\n",
              "V1      0.62      0.62    0.57      0.29 1.7   0.0103 0.0116  0.30\n",
              "V2      0.64      0.64    0.59      0.31 1.8   0.0098 0.0086  0.32\n",
              "V3      0.59      0.59    0.55      0.26 1.4   0.0109 0.0197  0.21\n",
              "V4      0.67      0.67    0.63      0.34 2.0   0.0090 0.0157  0.35\n",
              "V5      0.67      0.67    0.64      0.33 2.0   0.0088 0.0201  0.35\n",
              "\n",
              " Item statistics \n",
              "      n raw.r std.r r.cor r.drop mean  sd\n",
              "V1 3598  0.72  0.70  0.61   0.49  2.9 1.3\n",
              "V2 3598  0.68  0.66  0.55   0.45  2.0 1.3\n",
              "V3 3598  0.74  0.75  0.67   0.56  2.9 1.2\n",
              "V4 3598  0.57  0.61  0.45   0.36  3.7 1.0\n",
              "V5 3598  0.62  0.62  0.46   0.37  2.8 1.2\n",
              "\n",
              "Non missing response frequency for each item\n",
              "        1    2    3    4    5 miss\n",
              "[1,] 0.20 0.17 0.28 0.21 0.14    0\n",
              "[2,] 0.54 0.14 0.18 0.08 0.06    0\n",
              "[3,] 0.15 0.16 0.38 0.20 0.10    0\n",
              "[4,] 0.04 0.06 0.29 0.41 0.20    0\n",
              "[5,] 0.19 0.18 0.35 0.17 0.11    0"
            ]
          },
          "metadata": {
            "tags": []
          }
        },
        {
          "output_type": "display_data",
          "data": {
            "text/plain": [
              "\n",
              "Reliability analysis   \n",
              "Call: alpha(x = cbind(dat$violent, dat$burn), check.keys = TRUE)\n",
              "\n",
              "  raw_alpha std.alpha G6(smc) average_r S/N  ase mean  sd median_r\n",
              "       0.7       0.7    0.53      0.53 2.3 0.01  2.5 1.1     0.53\n",
              "\n",
              " lower alpha upper     95% confidence boundaries\n",
              "0.68 0.7 0.72 \n",
              "\n",
              " Reliability if an item is dropped:\n",
              "   raw_alpha std.alpha G6(smc) average_r S/N alpha se var.r med.r\n",
              "V1      0.56      0.53    0.29      0.53 1.1       NA     0  0.53\n",
              "V2      0.51      0.53    0.29      0.53 1.1       NA     0  0.53\n",
              "\n",
              " Item statistics \n",
              "      n raw.r std.r r.cor r.drop mean  sd\n",
              "V1 3598  0.88  0.88  0.64   0.53  2.9 1.3\n",
              "V2 3598  0.87  0.88  0.64   0.53  2.0 1.3\n",
              "\n",
              "Non missing response frequency for each item\n",
              "        1    2    3    4    5 miss\n",
              "[1,] 0.20 0.17 0.28 0.21 0.14    0\n",
              "[2,] 0.54 0.14 0.18 0.08 0.06    0"
            ]
          },
          "metadata": {
            "tags": []
          }
        },
        {
          "output_type": "display_data",
          "data": {
            "text/plain": [
              "\n",
              "Reliability analysis   \n",
              "Call: alpha(x = cbind(dat$court, dat$recount, dat$criticize), check.keys = TRUE)\n",
              "\n",
              "  raw_alpha std.alpha G6(smc) average_r S/N   ase mean   sd median_r\n",
              "      0.63      0.63    0.54      0.36 1.7 0.011  3.1 0.86     0.39\n",
              "\n",
              " lower alpha upper     95% confidence boundaries\n",
              "0.6 0.63 0.65 \n",
              "\n",
              " Reliability if an item is dropped:\n",
              "   raw_alpha std.alpha G6(smc) average_r  S/N alpha se var.r med.r\n",
              "V1      0.42      0.43    0.27      0.27 0.75    0.019    NA  0.27\n",
              "V2      0.56      0.56    0.39      0.39 1.29    0.015    NA  0.39\n",
              "V3      0.58      0.59    0.42      0.42 1.42    0.014    NA  0.42\n",
              "\n",
              " Item statistics \n",
              "      n raw.r std.r r.cor r.drop mean  sd\n",
              "V1 3598  0.80  0.80  0.64   0.50  2.9 1.2\n",
              "V2 3598  0.71  0.74  0.53   0.41  3.7 1.0\n",
              "V3 3598  0.76  0.73  0.50   0.40  2.8 1.2\n",
              "\n",
              "Non missing response frequency for each item\n",
              "        1    2    3    4    5 miss\n",
              "[1,] 0.15 0.16 0.38 0.20 0.10    0\n",
              "[2,] 0.04 0.06 0.29 0.41 0.20    0\n",
              "[3,] 0.19 0.18 0.35 0.17 0.11    0"
            ]
          },
          "metadata": {
            "tags": []
          }
        }
      ]
    },
    {
      "cell_type": "markdown",
      "metadata": {
        "id": "xeUk29DfILIk"
      },
      "source": [
        "## Individual Differences and Electoral Contestation\n",
        "\n",
        "The distribution of responses to each item are shown in Figure 1. Higher values indicate greater support for that behavior. We observe the most support for ballot recounts and participating in a march or demonstration although some of these responses are a result of the 2020 election. \n"
      ]
    },
    {
      "cell_type": "code",
      "metadata": {
        "colab": {
          "base_uri": "https://localhost:8080/",
          "height": 1000
        },
        "id": "i3Zi6e6YWLYd",
        "outputId": "0e29d96e-4295-4121-f6bb-d80689605b9a"
      },
      "source": [
        "### \n",
        "library(MASS)\n",
        "library(ggplot2)\n",
        "\n",
        "names = c(\"violent\", \"burn\", \"court\", \"recount\", \"criticize\", \"pid3\")\n",
        "dat= df[names(df) %in% names] %>% na.omit \n",
        "labs <- c(\"Strongly Oppose\", \"Oppose\", \"Neither\", \"Support\", \"Strongly Support\")\n",
        "\n",
        "### When unhappy the election results.......\n",
        "\n",
        "a <- ggplot(dat, aes(x=violent)) +\n",
        "    facet_grid(~pid3) + \n",
        "    geom_bar(mapping = aes(y=..prop..)) + \n",
        "    scale_x_discrete(\"Support\", limits = factor(c(1:5)), labels = labs) + \n",
        "    scale_fill_grey() +\n",
        "    theme_bw() + \n",
        "    theme(legend.position=\"none\", axis.ticks = element_blank(), axis.text.x = element_text(angle = 90)) + \n",
        "    ggtitle(\"Attend Protests\") +\n",
        "    labs(caption=\"2020 Western States Survey\")\n",
        "\n",
        "b <- ggplot(dat, aes(x=burn)) +\n",
        "    facet_grid(~pid3) + \n",
        "    geom_bar(mapping = aes(y=..prop..)) + \n",
        "    scale_x_discrete(\"Support\", limits = factor(c(1:5)), labels = labs) + \n",
        "    scale_fill_grey() +\n",
        "    theme_bw() + \n",
        "    theme(legend.position=\"none\", axis.ticks = element_blank(), axis.text.x = element_text(angle = 90)) + \n",
        "    ggtitle(\"Burn the American Flag\") +\n",
        "    labs(caption=\"2020 Western States Survey\")\n",
        "\n",
        "c <- ggplot(dat, aes(x=court)) +\n",
        "    facet_grid(~pid3) + \n",
        "    geom_bar(mapping = aes(y=..prop..)) + \n",
        "    scale_x_discrete(\"Support\", limits = factor(c(1:5)), labels = labs) + \n",
        "    scale_fill_grey() +\n",
        "    theme_bw() + \n",
        "    theme(legend.position=\"none\", axis.ticks = element_blank(), axis.text.x = element_text(angle = 90)) + \n",
        "    ggtitle(\"Contest election in court\") +\n",
        "    labs(caption=\"2020 Western States Survey\")\n",
        "\n",
        "\n",
        "d <- ggplot(dat, aes(x=recount)) +\n",
        "    facet_grid(~pid3) + \n",
        "    geom_bar(mapping = aes(y=..prop..)) + \n",
        "    scale_x_discrete(\"Support\", limits = factor(c(1:5)), labels = labs) + \n",
        "    scale_fill_grey() +\n",
        "    theme_bw() + \n",
        "    theme(legend.position=\"none\", axis.ticks = element_blank(), axis.text.x = element_text(angle = 90)) + \n",
        "    ggtitle(\"Ballot recounts\") +\n",
        "    labs(caption=\"2020 Western States Survey\")\n",
        "\n",
        "\n",
        "e <- ggplot(dat, aes(x=criticize)) +\n",
        "    facet_grid(~pid3) + \n",
        "    geom_bar(mapping = aes(y=..prop..)) + \n",
        "    scale_x_discrete(\"Support\", limits = factor(c(1:5)), labels = labs) + \n",
        "    scale_fill_grey() +\n",
        "    theme_bw() + \n",
        "    theme(legend.position=\"none\", axis.ticks = element_blank(), axis.text.x = element_text(angle = 90)) + \n",
        "    ggtitle(\"Publicly criticize the integrity and fairness of the election\") +\n",
        "    labs(caption=\"2020 Western States Survey\")\n",
        "\n",
        "#ggarrange(a,b, c, d, e, ncol=)\n",
        "a\n",
        "b\n",
        "c\n",
        "d\n",
        "e"
      ],
      "execution_count": null,
      "outputs": [
        {
          "output_type": "stream",
          "text": [
            "\n",
            "Attaching package: ‘MASS’\n",
            "\n",
            "\n",
            "The following object is masked from ‘package:dplyr’:\n",
            "\n",
            "    select\n",
            "\n",
            "\n",
            "\n",
            "Attaching package: ‘ggplot2’\n",
            "\n",
            "\n",
            "The following objects are masked from ‘package:psych’:\n",
            "\n",
            "    %+%, alpha\n",
            "\n",
            "\n"
          ],
          "name": "stderr"
        },
        {
          "output_type": "display_data",
          "data": {
            "image/png": "[encoded data removed]",
            "text/plain": [
              "plot without title"
            ]
          },
          "metadata": {
            "tags": [],
            "image/png": {
              "width": 420,
              "height": 420
            }
          }
        },
        {
          "output_type": "display_data",
          "data": {
            "image/png": "[encoded data removed]",
            "text/plain": [
              "plot without title"
            ]
          },
          "metadata": {
            "tags": [],
            "image/png": {
              "width": 420,
              "height": 420
            }
          }
        },
        {
          "output_type": "display_data",
          "data": {
            "image/png": "[encoded data removed]",
            "text/plain": [
              "plot without title"
            ]
          },
          "metadata": {
            "tags": [],
            "image/png": {
              "width": 420,
              "height": 420
            }
          }
        },
        {
          "output_type": "display_data",
          "data": {
            "image/png": "[encoded data removed]",
            "text/plain": [
              "plot without title"
            ]
          },
          "metadata": {
            "tags": [],
            "image/png": {
              "width": 420,
              "height": 420
            }
          }
        },
        {
          "output_type": "display_data",
          "data": {
            "image/png": "[encoded data removed]",
            "text/plain": [
              "plot without title"
            ]
          },
          "metadata": {
            "tags": [],
            "image/png": {
              "width": 420,
              "height": 420
            }
          }
        }
      ]
    },
    {
      "cell_type": "markdown",
      "metadata": {
        "id": "PcrAYqIthUO-"
      },
      "source": [
        "There are clear partisan differences, the exception being criticizing election integrity. On the whole, Democrats are more supportive of contestation actions. Here are a fuller set of results -- just ordered logits with a bunch of predictors. It's interesting, but also confusing. Conservatives are generally more opposed than liberals; authoritarians are opposed to these actions relative to non-authoritarians. Dominance orientation pretty consistently leads to these actions.\n",
        "\n",
        "\n"
      ]
    },
    {
      "cell_type": "code",
      "metadata": {
        "colab": {
          "base_uri": "https://localhost:8080/",
          "height": 1000
        },
        "id": "57Av4EGRIo5-",
        "outputId": "f77a4b33-efca-4dd9-e979-e09ccc7afa13"
      },
      "source": [
        "dat = df\n",
        "polr(as.factor(violent) ~ as.factor(pid3) + sdo + authoritarianism + rr + age + female + white + latino + black + college + ideology , dat) %>% summary()\n",
        "polr(as.factor(burn) ~ as.factor(pid3) + sdo + authoritarianism + rr + age + female + white + latino + black + college + ideology , dat) %>% summary()\n",
        "polr(as.factor(court) ~ as.factor(pid3) + sdo + authoritarianism + rr + age + female + white + latino + black + college + ideology , dat) %>% summary()\n",
        "polr(as.factor(recount) ~ as.factor(pid3) + sdo + authoritarianism + rr + age + female + white + latino + black + college + ideology , dat) %>% summary()\n",
        "polr(as.factor(criticize) ~ as.factor(pid3) + sdo + authoritarianism + rr + age + female + white + latino + black + college + ideology , dat) %>% summary()\n"
      ],
      "execution_count": null,
      "outputs": [
        {
          "output_type": "stream",
          "text": [
            "\n",
            "Re-fitting to get Hessian\n",
            "\n",
            "\n"
          ],
          "name": "stderr"
        },
        {
          "output_type": "display_data",
          "data": {
            "text/plain": [
              "Call:\n",
              "polr(formula = as.factor(violent) ~ as.factor(pid3) + sdo + authoritarianism + \n",
              "    rr + age + female + white + latino + black + college + ideology, \n",
              "    data = dat)\n",
              "\n",
              "Coefficients:\n",
              "                              Value Std. Error t value\n",
              "as.factor(pid3)Independent -0.75508   0.097268  -7.763\n",
              "as.factor(pid3)Republican  -0.40254   0.079002  -5.095\n",
              "sdo                        -0.27730   0.242279  -1.145\n",
              "authoritarianism           -1.09847   0.105521 -10.410\n",
              "rr                          1.33367   0.279109   4.778\n",
              "age                        -0.02058   0.001971 -10.441\n",
              "female                     -0.18544   0.065667  -2.824\n",
              "white                      -0.14662   0.129477  -1.132\n",
              "latino                     -0.24386   0.133592  -1.825\n",
              "black                       0.25355   0.207904   1.220\n",
              "college                     0.10671   0.067628   1.578\n",
              "ideology                   -0.30473   0.029156 -10.452\n",
              "\n",
              "Intercepts:\n",
              "    Value    Std. Error t value \n",
              "1|2  -4.0617   0.2582   -15.7328\n",
              "2|3  -3.0467   0.2538   -12.0020\n",
              "3|4  -1.7176   0.2499    -6.8740\n",
              "4|5  -0.3041   0.2495    -1.2191\n",
              "\n",
              "Residual Deviance: 9297.718 \n",
              "AIC: 9329.718 \n",
              "(407 observations deleted due to missingness)"
            ]
          },
          "metadata": {
            "tags": []
          }
        },
        {
          "output_type": "stream",
          "text": [
            "\n",
            "Re-fitting to get Hessian\n",
            "\n",
            "\n"
          ],
          "name": "stderr"
        },
        {
          "output_type": "display_data",
          "data": {
            "text/plain": [
              "Call:\n",
              "polr(formula = as.factor(burn) ~ as.factor(pid3) + sdo + authoritarianism + \n",
              "    rr + age + female + white + latino + black + college + ideology, \n",
              "    data = dat)\n",
              "\n",
              "Coefficients:\n",
              "                               Value Std. Error   t value\n",
              "as.factor(pid3)Independent -0.952990   0.120261  -7.92434\n",
              "as.factor(pid3)Republican  -0.317524   0.084766  -3.74587\n",
              "sdo                        -0.840594   0.283517  -2.96489\n",
              "authoritarianism           -1.334330   0.122334 -10.90725\n",
              "rr                          1.878114   0.330226   5.68737\n",
              "age                        -0.029823   0.002293 -13.00761\n",
              "female                     -0.364376   0.074825  -4.86969\n",
              "white                      -0.039547   0.143762  -0.27509\n",
              "latino                     -0.112658   0.147962  -0.76140\n",
              "black                       0.371253   0.228136   1.62733\n",
              "college                     0.001109   0.077059   0.01439\n",
              "ideology                   -0.363478   0.033960 -10.70301\n",
              "\n",
              "Intercepts:\n",
              "    Value    Std. Error t value \n",
              "1|2  -2.9511   0.2897   -10.1858\n",
              "2|3  -2.1377   0.2866    -7.4580\n",
              "3|4  -0.9492   0.2849    -3.3319\n",
              "4|5   0.0385   0.2887     0.1335\n",
              "\n",
              "Residual Deviance: 7109.318 \n",
              "AIC: 7141.318 \n",
              "(407 observations deleted due to missingness)"
            ]
          },
          "metadata": {
            "tags": []
          }
        },
        {
          "output_type": "stream",
          "text": [
            "\n",
            "Re-fitting to get Hessian\n",
            "\n",
            "\n"
          ],
          "name": "stderr"
        },
        {
          "output_type": "display_data",
          "data": {
            "text/plain": [
              "Call:\n",
              "polr(formula = as.factor(court) ~ as.factor(pid3) + sdo + authoritarianism + \n",
              "    rr + age + female + white + latino + black + college + ideology, \n",
              "    data = dat)\n",
              "\n",
              "Coefficients:\n",
              "                               Value Std. Error t value\n",
              "as.factor(pid3)Independent -0.044532   0.096406 -0.4619\n",
              "as.factor(pid3)Republican  -0.149521   0.079075 -1.8909\n",
              "sdo                         0.127558   0.242429  0.5262\n",
              "authoritarianism           -0.621868   0.103651 -5.9996\n",
              "rr                          1.077854   0.278950  3.8640\n",
              "age                        -0.012582   0.001946 -6.4662\n",
              "female                     -0.046038   0.065400 -0.7039\n",
              "white                      -0.057093   0.126950 -0.4497\n",
              "latino                     -0.144641   0.131041 -1.1038\n",
              "black                       0.148975   0.205025  0.7266\n",
              "college                    -0.008892   0.067139 -0.1324\n",
              "ideology                   -0.122598   0.028878 -4.2453\n",
              "\n",
              "Intercepts:\n",
              "    Value    Std. Error t value \n",
              "1|2  -2.5094   0.2494   -10.0631\n",
              "2|3  -1.5159   0.2462    -6.1572\n",
              "3|4   0.0667   0.2447     0.2726\n",
              "4|5   1.4385   0.2485     5.7892\n",
              "\n",
              "Residual Deviance: 9538.25 \n",
              "AIC: 9570.25 \n",
              "(407 observations deleted due to missingness)"
            ]
          },
          "metadata": {
            "tags": []
          }
        },
        {
          "output_type": "stream",
          "text": [
            "\n",
            "Re-fitting to get Hessian\n",
            "\n",
            "\n"
          ],
          "name": "stderr"
        },
        {
          "output_type": "display_data",
          "data": {
            "text/plain": [
              "Call:\n",
              "polr(formula = as.factor(recount) ~ as.factor(pid3) + sdo + authoritarianism + \n",
              "    rr + age + female + white + latino + black + college + ideology, \n",
              "    data = dat)\n",
              "\n",
              "Coefficients:\n",
              "                               Value Std. Error  t value\n",
              "as.factor(pid3)Independent  0.110379   0.099029  1.11462\n",
              "as.factor(pid3)Republican  -0.141957   0.081025 -1.75202\n",
              "sdo                         0.850279   0.246986  3.44263\n",
              "authoritarianism           -0.376151   0.106600 -3.52863\n",
              "rr                          0.803697   0.287542  2.79506\n",
              "age                         0.002901   0.001968  1.47398\n",
              "female                      0.078186   0.066715  1.17194\n",
              "white                      -0.007825   0.130779 -0.05983\n",
              "latino                     -0.249266   0.136249 -1.82949\n",
              "black                      -0.375348   0.215302 -1.74336\n",
              "college                     0.073975   0.068270  1.08357\n",
              "ideology                   -0.124617   0.030086 -4.14198\n",
              "\n",
              "Intercepts:\n",
              "    Value   Std. Error t value\n",
              "1|2 -2.6501  0.2654    -9.9847\n",
              "2|3 -1.7059  0.2576    -6.6230\n",
              "3|4 -0.0250  0.2545    -0.0981\n",
              "4|5  1.8974  0.2572     7.3776\n",
              "\n",
              "Residual Deviance: 8505.396 \n",
              "AIC: 8537.396 \n",
              "(408 observations deleted due to missingness)"
            ]
          },
          "metadata": {
            "tags": []
          }
        },
        {
          "output_type": "stream",
          "text": [
            "\n",
            "Re-fitting to get Hessian\n",
            "\n",
            "\n"
          ],
          "name": "stderr"
        },
        {
          "output_type": "display_data",
          "data": {
            "text/plain": [
              "Call:\n",
              "polr(formula = as.factor(criticize) ~ as.factor(pid3) + sdo + \n",
              "    authoritarianism + rr + age + female + white + latino + black + \n",
              "    college + ideology, data = dat)\n",
              "\n",
              "Coefficients:\n",
              "                              Value Std. Error  t value\n",
              "as.factor(pid3)Independent  0.31942   0.096068  3.32498\n",
              "as.factor(pid3)Republican  -0.05194   0.079061 -0.65693\n",
              "sdo                         0.51708   0.240256  2.15218\n",
              "authoritarianism           -0.03376   0.103316 -0.32678\n",
              "rr                          1.42709   0.278257  5.12867\n",
              "age                        -0.01149   0.001928 -5.95990\n",
              "female                     -0.14230   0.065121 -2.18515\n",
              "white                      -0.23490   0.128008 -1.83504\n",
              "latino                     -0.06240   0.132619 -0.47052\n",
              "black                      -0.01175   0.206154 -0.05699\n",
              "college                    -0.21435   0.067171 -3.19109\n",
              "ideology                    0.03505   0.028816  1.21623\n",
              "\n",
              "Intercepts:\n",
              "    Value   Std. Error t value\n",
              "1|2 -1.0620  0.2489    -4.2672\n",
              "2|3 -0.0902  0.2478    -0.3639\n",
              "3|4  1.3838  0.2492     5.5535\n",
              "4|5  2.5666  0.2538    10.1112\n",
              "\n",
              "Residual Deviance: 9684.375 \n",
              "AIC: 9716.375 \n",
              "(408 observations deleted due to missingness)"
            ]
          },
          "metadata": {
            "tags": []
          }
        }
      ]
    },
    {
      "cell_type": "code",
      "metadata": {
        "colab": {
          "base_uri": "https://localhost:8080/",
          "height": 130
        },
        "id": "j8qY2U1MZD59",
        "outputId": "524d96b6-025b-4247-9c84-5483280a7a62"
      },
      "source": [
        "# I'm working on this: \n",
        "\n",
        "## Interactive treatment effects....\n",
        "data <- df\n",
        "\n",
        "data$treat <- car::recode(data$VIOLENT, \"1 = 'Violent'; 0 = 'Unspecified'\") %>% as.factor\n",
        "data$pid3 <- data$pid3 %>% as.ordered() \n",
        "data$college <- data$college %>% as.factor() \n",
        "data$white <- data$white %>% as.factor() \n",
        "data$post_election <- data$post_election %>% as.factor() \n",
        "data$timing <- data$timing %>% as.ordered() \n",
        "data$voted <- data$voted %>% as.ordered() \n",
        "\n",
        "fit3 <- CausalANOVA(formula=violent ~ college + treat + white, \n",
        "                    int2.formula = ~ treat:college, data=data,  \n",
        "                    nway=2, family=\"gaussian\")\n",
        "summary(fit3)\n",
        "plot(fit3, type=\"AMIE\", fac.name=c(\"treat\", \"college\", \"white\"),space=25,adj.p=2.2)\n",
        "\n",
        "\n",
        "\n"
      ],
      "execution_count": null,
      "outputs": [
        {
          "output_type": "error",
          "ename": "ERROR",
          "evalue": "ignored",
          "traceback": [
            "Error in library(FindIt): there is no package called ‘FindIt’\nTraceback:\n",
            "1. library(FindIt)"
          ]
        }
      ]
    },
    {
      "cell_type": "code",
      "metadata": {
        "id": "Ly84cFxEKoJp"
      },
      "source": [
        ""
      ],
      "execution_count": null,
      "outputs": []
    }
  ]
}